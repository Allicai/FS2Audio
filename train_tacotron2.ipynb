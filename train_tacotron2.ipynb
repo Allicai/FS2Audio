{
 "cells": [
  {
   "cell_type": "code",
   "execution_count": 1,
   "id": "21cb43c5-2192-472b-b0ea-ee0ba04e7119",
   "metadata": {},
   "outputs": [
    {
     "name": "stdout",
     "output_type": "stream",
     "text": [
      "Note: you may need to restart the kernel to use updated packages.\n"
     ]
    },
    {
     "name": "stderr",
     "output_type": "stream",
     "text": [
      "WARNING: Skipping C:\\Users\\vinit\\anaconda3\\Lib\\site-packages\\aiofiles-22.1.0.dist-info due to invalid metadata entry 'name'\n",
      "WARNING: Skipping C:\\Users\\vinit\\anaconda3\\Lib\\site-packages\\aiosqlite-0.18.0.dist-info due to invalid metadata entry 'name'\n",
      "WARNING: Skipping C:\\Users\\vinit\\anaconda3\\Lib\\site-packages\\async_timeout-4.0.2.dist-info due to invalid metadata entry 'name'\n",
      "WARNING: Skipping C:\\Users\\vinit\\anaconda3\\Lib\\site-packages\\attrs-22.1.0.dist-info due to invalid metadata entry 'name'\n",
      "WARNING: Skipping C:\\Users\\vinit\\anaconda3\\Lib\\site-packages\\certifi-2023.7.22.dist-info due to invalid metadata entry 'name'\n",
      "WARNING: Skipping C:\\Users\\vinit\\anaconda3\\Lib\\site-packages\\constantly-15.1.0-py3.11.egg-info due to invalid metadata entry 'name'\n",
      "WARNING: Skipping C:\\Users\\vinit\\anaconda3\\Lib\\site-packages\\filelock-3.9.0.dist-info due to invalid metadata entry 'name'\n",
      "WARNING: Skipping C:\\Users\\vinit\\anaconda3\\Lib\\site-packages\\frozenlist-1.3.3.dist-info due to invalid metadata entry 'name'\n",
      "WARNING: Skipping C:\\Users\\vinit\\anaconda3\\Lib\\site-packages\\fsspec-2023.4.0.dist-info due to invalid metadata entry 'name'\n",
      "WARNING: Skipping C:\\Users\\vinit\\anaconda3\\Lib\\site-packages\\greenlet-2.0.1.dist-info due to invalid metadata entry 'name'\n",
      "WARNING: Skipping C:\\Users\\vinit\\anaconda3\\Lib\\site-packages\\jupyterlab_widgets-3.0.5.dist-info due to invalid metadata entry 'name'\n",
      "WARNING: Skipping C:\\Users\\vinit\\anaconda3\\Lib\\site-packages\\lazy_loader-0.2.dist-info due to invalid metadata entry 'name'\n",
      "WARNING: Skipping C:\\Users\\vinit\\anaconda3\\Lib\\site-packages\\llvmlite-0.40.0.dist-info due to invalid metadata entry 'name'\n",
      "WARNING: Skipping C:\\Users\\vinit\\anaconda3\\Lib\\site-packages\\MarkupSafe-2.1.1.dist-info due to invalid metadata entry 'name'\n",
      "WARNING: Skipping C:\\Users\\vinit\\anaconda3\\Lib\\site-packages\\mistune-0.8.4.dist-info due to invalid metadata entry 'name'\n",
      "WARNING: Skipping C:\\Users\\vinit\\anaconda3\\Lib\\site-packages\\multidict-6.0.2.dist-info due to invalid metadata entry 'name'\n",
      "WARNING: Skipping C:\\Users\\vinit\\anaconda3\\Lib\\site-packages\\param-1.13.0.dist-info due to invalid metadata entry 'name'\n",
      "WARNING: Skipping C:\\Users\\vinit\\anaconda3\\Lib\\site-packages\\pycosat-0.6.4.dist-info due to invalid metadata entry 'name'\n",
      "WARNING: Skipping C:\\Users\\vinit\\anaconda3\\Lib\\site-packages\\pyodbc-4.0.34.dist-info due to invalid metadata entry 'name'\n",
      "WARNING: Skipping C:\\Users\\vinit\\anaconda3\\Lib\\site-packages\\pyrsistent-0.18.0.dist-info due to invalid metadata entry 'name'\n",
      "WARNING: Skipping C:\\Users\\vinit\\anaconda3\\Lib\\site-packages\\PyYAML-6.0.dist-info due to invalid metadata entry 'name'\n",
      "WARNING: Skipping C:\\Users\\vinit\\anaconda3\\Lib\\site-packages\\pyzmq-23.2.0.dist-info due to invalid metadata entry 'name'\n",
      "WARNING: Skipping C:\\Users\\vinit\\anaconda3\\Lib\\site-packages\\aiofiles-22.1.0.dist-info due to invalid metadata entry 'name'\n",
      "WARNING: Skipping C:\\Users\\vinit\\anaconda3\\Lib\\site-packages\\aiosqlite-0.18.0.dist-info due to invalid metadata entry 'name'\n",
      "WARNING: Skipping C:\\Users\\vinit\\anaconda3\\Lib\\site-packages\\async_timeout-4.0.2.dist-info due to invalid metadata entry 'name'\n",
      "WARNING: Skipping C:\\Users\\vinit\\anaconda3\\Lib\\site-packages\\attrs-22.1.0.dist-info due to invalid metadata entry 'name'\n",
      "WARNING: Skipping C:\\Users\\vinit\\anaconda3\\Lib\\site-packages\\certifi-2023.7.22.dist-info due to invalid metadata entry 'name'\n",
      "WARNING: Skipping C:\\Users\\vinit\\anaconda3\\Lib\\site-packages\\constantly-15.1.0-py3.11.egg-info due to invalid metadata entry 'name'\n",
      "WARNING: Skipping C:\\Users\\vinit\\anaconda3\\Lib\\site-packages\\filelock-3.9.0.dist-info due to invalid metadata entry 'name'\n",
      "WARNING: Skipping C:\\Users\\vinit\\anaconda3\\Lib\\site-packages\\frozenlist-1.3.3.dist-info due to invalid metadata entry 'name'\n",
      "WARNING: Skipping C:\\Users\\vinit\\anaconda3\\Lib\\site-packages\\fsspec-2023.4.0.dist-info due to invalid metadata entry 'name'\n",
      "WARNING: Skipping C:\\Users\\vinit\\anaconda3\\Lib\\site-packages\\greenlet-2.0.1.dist-info due to invalid metadata entry 'name'\n",
      "WARNING: Skipping C:\\Users\\vinit\\anaconda3\\Lib\\site-packages\\jupyterlab_widgets-3.0.5.dist-info due to invalid metadata entry 'name'\n",
      "WARNING: Skipping C:\\Users\\vinit\\anaconda3\\Lib\\site-packages\\lazy_loader-0.2.dist-info due to invalid metadata entry 'name'\n",
      "WARNING: Skipping C:\\Users\\vinit\\anaconda3\\Lib\\site-packages\\llvmlite-0.40.0.dist-info due to invalid metadata entry 'name'\n",
      "WARNING: Skipping C:\\Users\\vinit\\anaconda3\\Lib\\site-packages\\MarkupSafe-2.1.1.dist-info due to invalid metadata entry 'name'\n",
      "WARNING: Skipping C:\\Users\\vinit\\anaconda3\\Lib\\site-packages\\mistune-0.8.4.dist-info due to invalid metadata entry 'name'\n",
      "WARNING: Skipping C:\\Users\\vinit\\anaconda3\\Lib\\site-packages\\multidict-6.0.2.dist-info due to invalid metadata entry 'name'\n",
      "WARNING: Skipping C:\\Users\\vinit\\anaconda3\\Lib\\site-packages\\param-1.13.0.dist-info due to invalid metadata entry 'name'\n",
      "WARNING: Skipping C:\\Users\\vinit\\anaconda3\\Lib\\site-packages\\pycosat-0.6.4.dist-info due to invalid metadata entry 'name'\n",
      "WARNING: Skipping C:\\Users\\vinit\\anaconda3\\Lib\\site-packages\\pyodbc-4.0.34.dist-info due to invalid metadata entry 'name'\n",
      "WARNING: Skipping C:\\Users\\vinit\\anaconda3\\Lib\\site-packages\\pyrsistent-0.18.0.dist-info due to invalid metadata entry 'name'\n",
      "WARNING: Skipping C:\\Users\\vinit\\anaconda3\\Lib\\site-packages\\PyYAML-6.0.dist-info due to invalid metadata entry 'name'\n",
      "WARNING: Skipping C:\\Users\\vinit\\anaconda3\\Lib\\site-packages\\pyzmq-23.2.0.dist-info due to invalid metadata entry 'name'\n",
      "ERROR: Could not find a version that satisfies the requirement tensorflow-tts (from versions: none)\n",
      "ERROR: No matching distribution found for tensorflow-tts\n",
      "WARNING: Skipping C:\\Users\\vinit\\anaconda3\\Lib\\site-packages\\aiofiles-22.1.0.dist-info due to invalid metadata entry 'name'\n",
      "WARNING: Skipping C:\\Users\\vinit\\anaconda3\\Lib\\site-packages\\aiosqlite-0.18.0.dist-info due to invalid metadata entry 'name'\n",
      "WARNING: Skipping C:\\Users\\vinit\\anaconda3\\Lib\\site-packages\\async_timeout-4.0.2.dist-info due to invalid metadata entry 'name'\n",
      "WARNING: Skipping C:\\Users\\vinit\\anaconda3\\Lib\\site-packages\\attrs-22.1.0.dist-info due to invalid metadata entry 'name'\n",
      "WARNING: Skipping C:\\Users\\vinit\\anaconda3\\Lib\\site-packages\\certifi-2023.7.22.dist-info due to invalid metadata entry 'name'\n",
      "WARNING: Skipping C:\\Users\\vinit\\anaconda3\\Lib\\site-packages\\constantly-15.1.0-py3.11.egg-info due to invalid metadata entry 'name'\n",
      "WARNING: Skipping C:\\Users\\vinit\\anaconda3\\Lib\\site-packages\\filelock-3.9.0.dist-info due to invalid metadata entry 'name'\n",
      "WARNING: Skipping C:\\Users\\vinit\\anaconda3\\Lib\\site-packages\\frozenlist-1.3.3.dist-info due to invalid metadata entry 'name'\n",
      "WARNING: Skipping C:\\Users\\vinit\\anaconda3\\Lib\\site-packages\\fsspec-2023.4.0.dist-info due to invalid metadata entry 'name'\n",
      "WARNING: Skipping C:\\Users\\vinit\\anaconda3\\Lib\\site-packages\\greenlet-2.0.1.dist-info due to invalid metadata entry 'name'\n",
      "WARNING: Skipping C:\\Users\\vinit\\anaconda3\\Lib\\site-packages\\jupyterlab_widgets-3.0.5.dist-info due to invalid metadata entry 'name'\n",
      "WARNING: Skipping C:\\Users\\vinit\\anaconda3\\Lib\\site-packages\\lazy_loader-0.2.dist-info due to invalid metadata entry 'name'\n",
      "WARNING: Skipping C:\\Users\\vinit\\anaconda3\\Lib\\site-packages\\llvmlite-0.40.0.dist-info due to invalid metadata entry 'name'\n",
      "WARNING: Skipping C:\\Users\\vinit\\anaconda3\\Lib\\site-packages\\MarkupSafe-2.1.1.dist-info due to invalid metadata entry 'name'\n",
      "WARNING: Skipping C:\\Users\\vinit\\anaconda3\\Lib\\site-packages\\mistune-0.8.4.dist-info due to invalid metadata entry 'name'\n",
      "WARNING: Skipping C:\\Users\\vinit\\anaconda3\\Lib\\site-packages\\multidict-6.0.2.dist-info due to invalid metadata entry 'name'\n",
      "WARNING: Skipping C:\\Users\\vinit\\anaconda3\\Lib\\site-packages\\param-1.13.0.dist-info due to invalid metadata entry 'name'\n",
      "WARNING: Skipping C:\\Users\\vinit\\anaconda3\\Lib\\site-packages\\pycosat-0.6.4.dist-info due to invalid metadata entry 'name'\n",
      "WARNING: Skipping C:\\Users\\vinit\\anaconda3\\Lib\\site-packages\\pyodbc-4.0.34.dist-info due to invalid metadata entry 'name'\n",
      "WARNING: Skipping C:\\Users\\vinit\\anaconda3\\Lib\\site-packages\\pyrsistent-0.18.0.dist-info due to invalid metadata entry 'name'\n",
      "WARNING: Skipping C:\\Users\\vinit\\anaconda3\\Lib\\site-packages\\PyYAML-6.0.dist-info due to invalid metadata entry 'name'\n",
      "WARNING: Skipping C:\\Users\\vinit\\anaconda3\\Lib\\site-packages\\pyzmq-23.2.0.dist-info due to invalid metadata entry 'name'\n",
      "WARNING: Skipping C:\\Users\\vinit\\anaconda3\\Lib\\site-packages\\aiofiles-22.1.0.dist-info due to invalid metadata entry 'name'\n",
      "WARNING: Skipping C:\\Users\\vinit\\anaconda3\\Lib\\site-packages\\aiosqlite-0.18.0.dist-info due to invalid metadata entry 'name'\n",
      "WARNING: Skipping C:\\Users\\vinit\\anaconda3\\Lib\\site-packages\\async_timeout-4.0.2.dist-info due to invalid metadata entry 'name'\n",
      "WARNING: Skipping C:\\Users\\vinit\\anaconda3\\Lib\\site-packages\\attrs-22.1.0.dist-info due to invalid metadata entry 'name'\n",
      "WARNING: Skipping C:\\Users\\vinit\\anaconda3\\Lib\\site-packages\\certifi-2023.7.22.dist-info due to invalid metadata entry 'name'\n",
      "WARNING: Skipping C:\\Users\\vinit\\anaconda3\\Lib\\site-packages\\constantly-15.1.0-py3.11.egg-info due to invalid metadata entry 'name'\n",
      "WARNING: Skipping C:\\Users\\vinit\\anaconda3\\Lib\\site-packages\\filelock-3.9.0.dist-info due to invalid metadata entry 'name'\n",
      "WARNING: Skipping C:\\Users\\vinit\\anaconda3\\Lib\\site-packages\\frozenlist-1.3.3.dist-info due to invalid metadata entry 'name'\n",
      "WARNING: Skipping C:\\Users\\vinit\\anaconda3\\Lib\\site-packages\\fsspec-2023.4.0.dist-info due to invalid metadata entry 'name'\n",
      "WARNING: Skipping C:\\Users\\vinit\\anaconda3\\Lib\\site-packages\\greenlet-2.0.1.dist-info due to invalid metadata entry 'name'\n",
      "WARNING: Skipping C:\\Users\\vinit\\anaconda3\\Lib\\site-packages\\jupyterlab_widgets-3.0.5.dist-info due to invalid metadata entry 'name'\n",
      "WARNING: Skipping C:\\Users\\vinit\\anaconda3\\Lib\\site-packages\\lazy_loader-0.2.dist-info due to invalid metadata entry 'name'\n",
      "WARNING: Skipping C:\\Users\\vinit\\anaconda3\\Lib\\site-packages\\llvmlite-0.40.0.dist-info due to invalid metadata entry 'name'\n",
      "WARNING: Skipping C:\\Users\\vinit\\anaconda3\\Lib\\site-packages\\MarkupSafe-2.1.1.dist-info due to invalid metadata entry 'name'\n",
      "WARNING: Skipping C:\\Users\\vinit\\anaconda3\\Lib\\site-packages\\mistune-0.8.4.dist-info due to invalid metadata entry 'name'\n",
      "WARNING: Skipping C:\\Users\\vinit\\anaconda3\\Lib\\site-packages\\multidict-6.0.2.dist-info due to invalid metadata entry 'name'\n",
      "WARNING: Skipping C:\\Users\\vinit\\anaconda3\\Lib\\site-packages\\param-1.13.0.dist-info due to invalid metadata entry 'name'\n",
      "WARNING: Skipping C:\\Users\\vinit\\anaconda3\\Lib\\site-packages\\aiofiles-22.1.0.dist-info due to invalid metadata entry 'name'\n",
      "WARNING: Skipping C:\\Users\\vinit\\anaconda3\\Lib\\site-packages\\aiosqlite-0.18.0.dist-info due to invalid metadata entry 'name'\n",
      "WARNING: Skipping C:\\Users\\vinit\\anaconda3\\Lib\\site-packages\\async_timeout-4.0.2.dist-info due to invalid metadata entry 'name'\n",
      "WARNING: Skipping C:\\Users\\vinit\\anaconda3\\Lib\\site-packages\\attrs-22.1.0.dist-info due to invalid metadata entry 'name'\n",
      "WARNING: Skipping C:\\Users\\vinit\\anaconda3\\Lib\\site-packages\\certifi-2023.7.22.dist-info due to invalid metadata entry 'name'\n",
      "WARNING: Skipping C:\\Users\\vinit\\anaconda3\\Lib\\site-packages\\constantly-15.1.0-py3.11.egg-info due to invalid metadata entry 'name'\n",
      "WARNING: Skipping C:\\Users\\vinit\\anaconda3\\Lib\\site-packages\\filelock-3.9.0.dist-info due to invalid metadata entry 'name'\n",
      "WARNING: Skipping C:\\Users\\vinit\\anaconda3\\Lib\\site-packages\\frozenlist-1.3.3.dist-info due to invalid metadata entry 'name'\n",
      "WARNING: Skipping C:\\Users\\vinit\\anaconda3\\Lib\\site-packages\\fsspec-2023.4.0.dist-info due to invalid metadata entry 'name'\n",
      "WARNING: Skipping C:\\Users\\vinit\\anaconda3\\Lib\\site-packages\\greenlet-2.0.1.dist-info due to invalid metadata entry 'name'\n",
      "WARNING: Skipping C:\\Users\\vinit\\anaconda3\\Lib\\site-packages\\jupyterlab_widgets-3.0.5.dist-info due to invalid metadata entry 'name'\n",
      "WARNING: Skipping C:\\Users\\vinit\\anaconda3\\Lib\\site-packages\\lazy_loader-0.2.dist-info due to invalid metadata entry 'name'\n",
      "WARNING: Skipping C:\\Users\\vinit\\anaconda3\\Lib\\site-packages\\llvmlite-0.40.0.dist-info due to invalid metadata entry 'name'\n",
      "WARNING: Skipping C:\\Users\\vinit\\anaconda3\\Lib\\site-packages\\MarkupSafe-2.1.1.dist-info due to invalid metadata entry 'name'\n",
      "WARNING: Skipping C:\\Users\\vinit\\anaconda3\\Lib\\site-packages\\mistune-0.8.4.dist-info due to invalid metadata entry 'name'\n",
      "WARNING: Skipping C:\\Users\\vinit\\anaconda3\\Lib\\site-packages\\multidict-6.0.2.dist-info due to invalid metadata entry 'name'\n",
      "WARNING: Skipping C:\\Users\\vinit\\anaconda3\\Lib\\site-packages\\param-1.13.0.dist-info due to invalid metadata entry 'name'\n"
     ]
    }
   ],
   "source": [
    "pip install tensorflow-tts"
   ]
  },
  {
   "cell_type": "code",
   "execution_count": 2,
   "id": "3f0b1013-2e4b-4716-85a1-2eb225a1281d",
   "metadata": {},
   "outputs": [
    {
     "ename": "SyntaxError",
     "evalue": "invalid syntax (2718682201.py, line 6)",
     "output_type": "error",
     "traceback": [
      "\u001b[1;36m  Cell \u001b[1;32mIn[2], line 6\u001b[1;36m\u001b[0m\n\u001b[1;33m    from tensorflow-tts.optimizers import AdamWeightDecay\u001b[0m\n\u001b[1;37m                   ^\u001b[0m\n\u001b[1;31mSyntaxError\u001b[0m\u001b[1;31m:\u001b[0m invalid syntax\n"
     ]
    }
   ],
   "source": [
    "# imports\n",
    "import tensorflow as tf\n",
    "import numpy as np\n",
    "import pandas as pd\n",
    "from tacotron2_model import create_tacotron2_model\n",
    "from tensorflow_tts.optimizers import AdamWeightDecay\n",
    "from tensorflow_tts.losses import TacotronLoss\n",
    "from tensorflow_tts.utils import Char2MelProcessor\n",
    "from sklearn.model_selection import train_test_split"
   ]
  },
  {
   "cell_type": "code",
   "execution_count": null,
   "id": "fafa5daf-9987-4805-b754-6b234a0116d8",
   "metadata": {},
   "outputs": [],
   "source": [
    "# loading the data\n",
    "# metadata.csv has two transcriptions for each audio file - split the csv by '|'.\n",
    "metadata = pd.read_csv(\"metadata.csv\", sep='|', names=[\"ID\", \"transcription1\", \"transcription2\"])\n",
    "\n",
    "# creating a new column for audio paths \n",
    "# metadata.csv contains 'ID's, which are the names of the audio files in the wavs dir\n",
    "# for example, the ID LJ001-0001 correlates to LJ001-0001.wav in the wavs folder, so we append\n",
    "# .wav to the end of the ID and get the audio\n",
    "metadata['audio_path'] = metadata['ID'].apply(lambda x: f'wavs/{x}.wav')\n",
    "\n",
    "# using train_test_split to generate training vs testing data\n",
    "train_metadata, val_metadata = train_test_split(metadata, test_size=0.1, random_state=42)\n"
   ]
  },
  {
   "cell_type": "code",
   "execution_count": null,
   "id": "a13d776b-22e2-41c6-9942-1d849193f98c",
   "metadata": {},
   "outputs": [],
   "source": [
    "# hyperparameters\n",
    "BATCH_SIZE = 8\n",
    "EPOCHS = 50"
   ]
  },
  {
   "cell_type": "code",
   "execution_count": null,
   "id": "1d7726a4-2f15-48f7-a62a-607bf6d0b061",
   "metadata": {},
   "outputs": [],
   "source": [
    "# initializing a tacotron2 model\n",
    "tacotron2 = create_tacotron2_model()\n",
    "\n",
    "# defining our optimizer - read on the Adam optimizer from class \n",
    "optimizer = AdamWeightDecay(learning_rate=1e-4, weight_decay_rate=1e-6)\n",
    "\n",
    "# compiling the model\n",
    "tacotron2.compile(optimizer=optimizer, loss=TacotronLoss())\n"
   ]
  },
  {
   "cell_type": "code",
   "execution_count": null,
   "id": "9aa45f87-6044-45be-b1d8-bee2167f45e0",
   "metadata": {},
   "outputs": [],
   "source": [
    "# training the model\n",
    "history = tacotron2.fit(train_metadata[\"transcription1\"], train_metadata[\"audio_path\"],\n",
    "                        batch_size=BATCH_SIZE,\n",
    "                        epochs=EPOCHS,\n",
    "                        validation_data=(val_metadata[\"transcription1\"], val_metadata[\"audio_path\"]))\n"
   ]
  }
 ],
 "metadata": {
  "kernelspec": {
   "display_name": "Python 3 (ipykernel)",
   "language": "python",
   "name": "python3"
  },
  "language_info": {
   "codemirror_mode": {
    "name": "ipython",
    "version": 3
   },
   "file_extension": ".py",
   "mimetype": "text/x-python",
   "name": "python",
   "nbconvert_exporter": "python",
   "pygments_lexer": "ipython3",
   "version": "3.11.5"
  }
 },
 "nbformat": 4,
 "nbformat_minor": 5
}
